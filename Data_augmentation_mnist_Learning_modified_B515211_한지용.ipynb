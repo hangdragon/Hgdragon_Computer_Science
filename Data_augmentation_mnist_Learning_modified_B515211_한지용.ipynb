{
  "nbformat": 4,
  "nbformat_minor": 0,
  "metadata": {
    "colab": {
      "name": "Data_augmentation_mnist_Learning_modified_B515211_한지용.ipynb",
      "provenance": [],
      "collapsed_sections": [],
      "authorship_tag": "ABX9TyOHXrl+7Pq1YTXHw41g/iCR",
      "include_colab_link": true
    },
    "kernelspec": {
      "name": "python3",
      "display_name": "Python 3"
    }
  },
  "cells": [
    {
      "cell_type": "markdown",
      "metadata": {
        "id": "view-in-github",
        "colab_type": "text"
      },
      "source": [
        "<a href=\"https://colab.research.google.com/github/hangdragon/Hgdragon_Computer_Science/blob/master/Data_augmentation_mnist_Learning_modified_B515211_%ED%95%9C%EC%A7%80%EC%9A%A9.ipynb\" target=\"_parent\"><img src=\"https://colab.research.google.com/assets/colab-badge.svg\" alt=\"Open In Colab\"/></a>"
      ]
    },
    {
      "cell_type": "code",
      "metadata": {
        "id": "KTaPq_UKHFMz",
        "colab_type": "code",
        "colab": {}
      },
      "source": [
        "\"\"\"\n",
        "<Data Augmentation을 이용하여 mnist를 다양하게 변형시키고, 그것을 학습시킨 DLP의 성능 분석 알고리즘>\n",
        "\n",
        "////////홍익대학교 전자전기공학부 4학년 B515211 한지용////////\n",
        "\n",
        "#코드의 큰 틀 -> Mnist class로!\n",
        "Mnist라는 class를 만드는데,\n",
        "\n",
        "멤버 변수 :\n",
        "1) original train, test data\n",
        "2) scaling,rotation,flipping에 관한 비율들\n",
        "3) train과 test를 용이하게 도와줄 self.idx와 각종 flag들. (멤버함수인 scaling(),rotation(),flipping()은 각각 flag값의 설정에 의해 체계적으로 운용된다.)\n",
        "4) augmentation 전과 후의 test 또는 train data의 모델 파라미터를 담을 그릇들\n",
        "\n",
        "멤버 함수:\n",
        "a) rotation : 회전 시킴\n",
        "b) flipping : 반전 시킴\n",
        "c) scaling : Decimation(다운샘플링, 다운스케일링)\n",
        "d) showing_pictures : plt를 이용하여 원래 그림과 augmentation된 그림을 각각 보여줌.\n",
        "e) DLP_train : DLP로 train을 시킨다.\n",
        "f) DLP_test : DLP로 test를 시킨다.\n",
        "g) setting_flag : flag값을 변화시켜서 각 augmentation의 제어를 담당.\n",
        "h) original_mnist_learning : 맨 처음으로 순수하게 mnist를 학습시키는 과정\n",
        "i) mnist_dlp.measuring_robustness : test data들만 변화시켜 기존의 모델의 robustness를 분석\n",
        "j) mnist_dlp.inhancing_accuracy_by_retraining : test data 뿐만 아니라 training data까지 변화시켜서 새로 학습을 시킨다. 이로 인해 각각 Augmentation 된 test data들에 대해서도 robust해진다.\n",
        "k) mnist_dlp.show_result : scaling , rotation, flipping의 robustness 및 개선된 accuracy를 분석하여 결과를 나타내줌. 그리고 이 함수를 끝으로 메인함수도 끝난다.\n",
        "\"\"\""
      ],
      "execution_count": 0,
      "outputs": []
    },
    {
      "cell_type": "code",
      "metadata": {
        "id": "WWW0QcAuHTXi",
        "colab_type": "code",
        "colab": {
          "base_uri": "https://localhost:8080/",
          "height": 1000
        },
        "outputId": "025d11b8-12bf-4b3d-cb21-cd3f58e6666c"
      },
      "source": [
        "# 오직 tf 1.x버전으로만 코딩했기 때문에 본래의 colab의 tf 2.2.0과는 너무 심한 충돌이 있어서 그 버전을 지우고 새로 깔았다.\n",
        "!pip uninstall tensorflow\n",
        "!pip install tensorflow==1.15"
      ],
      "execution_count": 1,
      "outputs": [
        {
          "output_type": "stream",
          "text": [
            "Uninstalling tensorflow-2.2.0:\n",
            "  Would remove:\n",
            "    /usr/local/bin/estimator_ckpt_converter\n",
            "    /usr/local/bin/saved_model_cli\n",
            "    /usr/local/bin/tensorboard\n",
            "    /usr/local/bin/tf_upgrade_v2\n",
            "    /usr/local/bin/tflite_convert\n",
            "    /usr/local/bin/toco\n",
            "    /usr/local/bin/toco_from_protos\n",
            "    /usr/local/lib/python3.6/dist-packages/tensorflow-2.2.0.dist-info/*\n",
            "    /usr/local/lib/python3.6/dist-packages/tensorflow/*\n",
            "Proceed (y/n)? y\n",
            "  Successfully uninstalled tensorflow-2.2.0\n",
            "Collecting tensorflow==1.15\n",
            "\u001b[?25l  Downloading https://files.pythonhosted.org/packages/3f/98/5a99af92fb911d7a88a0005ad55005f35b4c1ba8d75fba02df726cd936e6/tensorflow-1.15.0-cp36-cp36m-manylinux2010_x86_64.whl (412.3MB)\n",
            "\u001b[K     |████████████████████████████████| 412.3MB 21kB/s \n",
            "\u001b[?25hRequirement already satisfied: numpy<2.0,>=1.16.0 in /usr/local/lib/python3.6/dist-packages (from tensorflow==1.15) (1.18.4)\n",
            "Requirement already satisfied: six>=1.10.0 in /usr/local/lib/python3.6/dist-packages (from tensorflow==1.15) (1.12.0)\n",
            "Requirement already satisfied: protobuf>=3.6.1 in /usr/local/lib/python3.6/dist-packages (from tensorflow==1.15) (3.10.0)\n",
            "Collecting tensorboard<1.16.0,>=1.15.0\n",
            "\u001b[?25l  Downloading https://files.pythonhosted.org/packages/1e/e9/d3d747a97f7188f48aa5eda486907f3b345cd409f0a0850468ba867db246/tensorboard-1.15.0-py3-none-any.whl (3.8MB)\n",
            "\u001b[K     |████████████████████████████████| 3.8MB 34.9MB/s \n",
            "\u001b[?25hCollecting gast==0.2.2\n",
            "  Downloading https://files.pythonhosted.org/packages/4e/35/11749bf99b2d4e3cceb4d55ca22590b0d7c2c62b9de38ac4a4a7f4687421/gast-0.2.2.tar.gz\n",
            "Collecting tensorflow-estimator==1.15.1\n",
            "\u001b[?25l  Downloading https://files.pythonhosted.org/packages/de/62/2ee9cd74c9fa2fa450877847ba560b260f5d0fb70ee0595203082dafcc9d/tensorflow_estimator-1.15.1-py2.py3-none-any.whl (503kB)\n",
            "\u001b[K     |████████████████████████████████| 512kB 43.6MB/s \n",
            "\u001b[?25hRequirement already satisfied: wheel>=0.26 in /usr/local/lib/python3.6/dist-packages (from tensorflow==1.15) (0.34.2)\n",
            "Requirement already satisfied: wrapt>=1.11.1 in /usr/local/lib/python3.6/dist-packages (from tensorflow==1.15) (1.12.1)\n",
            "Requirement already satisfied: google-pasta>=0.1.6 in /usr/local/lib/python3.6/dist-packages (from tensorflow==1.15) (0.2.0)\n",
            "Requirement already satisfied: astor>=0.6.0 in /usr/local/lib/python3.6/dist-packages (from tensorflow==1.15) (0.8.1)\n",
            "Requirement already satisfied: keras-preprocessing>=1.0.5 in /usr/local/lib/python3.6/dist-packages (from tensorflow==1.15) (1.1.2)\n",
            "Requirement already satisfied: grpcio>=1.8.6 in /usr/local/lib/python3.6/dist-packages (from tensorflow==1.15) (1.29.0)\n",
            "Requirement already satisfied: keras-applications>=1.0.8 in /usr/local/lib/python3.6/dist-packages (from tensorflow==1.15) (1.0.8)\n",
            "Requirement already satisfied: absl-py>=0.7.0 in /usr/local/lib/python3.6/dist-packages (from tensorflow==1.15) (0.9.0)\n",
            "Requirement already satisfied: opt-einsum>=2.3.2 in /usr/local/lib/python3.6/dist-packages (from tensorflow==1.15) (3.2.1)\n",
            "Requirement already satisfied: termcolor>=1.1.0 in /usr/local/lib/python3.6/dist-packages (from tensorflow==1.15) (1.1.0)\n",
            "Requirement already satisfied: setuptools in /usr/local/lib/python3.6/dist-packages (from protobuf>=3.6.1->tensorflow==1.15) (47.1.1)\n",
            "Requirement already satisfied: werkzeug>=0.11.15 in /usr/local/lib/python3.6/dist-packages (from tensorboard<1.16.0,>=1.15.0->tensorflow==1.15) (1.0.1)\n",
            "Requirement already satisfied: markdown>=2.6.8 in /usr/local/lib/python3.6/dist-packages (from tensorboard<1.16.0,>=1.15.0->tensorflow==1.15) (3.2.2)\n",
            "Requirement already satisfied: h5py in /usr/local/lib/python3.6/dist-packages (from keras-applications>=1.0.8->tensorflow==1.15) (2.10.0)\n",
            "Requirement already satisfied: importlib-metadata; python_version < \"3.8\" in /usr/local/lib/python3.6/dist-packages (from markdown>=2.6.8->tensorboard<1.16.0,>=1.15.0->tensorflow==1.15) (1.6.0)\n",
            "Requirement already satisfied: zipp>=0.5 in /usr/local/lib/python3.6/dist-packages (from importlib-metadata; python_version < \"3.8\"->markdown>=2.6.8->tensorboard<1.16.0,>=1.15.0->tensorflow==1.15) (3.1.0)\n",
            "Building wheels for collected packages: gast\n",
            "  Building wheel for gast (setup.py) ... \u001b[?25l\u001b[?25hdone\n",
            "  Created wheel for gast: filename=gast-0.2.2-cp36-none-any.whl size=7540 sha256=5e87e435b78b5bce3ddec41f5ecac40e1dc2709b720e508116862bf7219de558\n",
            "  Stored in directory: /root/.cache/pip/wheels/5c/2e/7e/a1d4d4fcebe6c381f378ce7743a3ced3699feb89bcfbdadadd\n",
            "Successfully built gast\n",
            "\u001b[31mERROR: tensorflow-probability 0.10.0 has requirement gast>=0.3.2, but you'll have gast 0.2.2 which is incompatible.\u001b[0m\n",
            "Installing collected packages: tensorboard, gast, tensorflow-estimator, tensorflow\n",
            "  Found existing installation: tensorboard 2.2.2\n",
            "    Uninstalling tensorboard-2.2.2:\n",
            "      Successfully uninstalled tensorboard-2.2.2\n",
            "  Found existing installation: gast 0.3.3\n",
            "    Uninstalling gast-0.3.3:\n",
            "      Successfully uninstalled gast-0.3.3\n",
            "  Found existing installation: tensorflow-estimator 2.2.0\n",
            "    Uninstalling tensorflow-estimator-2.2.0:\n",
            "      Successfully uninstalled tensorflow-estimator-2.2.0\n",
            "Successfully installed gast-0.2.2 tensorboard-1.15.0 tensorflow-1.15.0 tensorflow-estimator-1.15.1\n"
          ],
          "name": "stdout"
        }
      ]
    },
    {
      "cell_type": "code",
      "metadata": {
        "id": "DBTxqkjlHJmK",
        "colab_type": "code",
        "colab": {
          "base_uri": "https://localhost:8080/",
          "height": 1000
        },
        "outputId": "00347091-6da0-4d12-afd4-153f443d9760"
      },
      "source": [
        "#-*- coding:utf-8 -*-\n",
        "\n",
        "import numpy as np\n",
        "import matplotlib.pyplot as plt\n",
        "import cv2\n",
        "import tensorflow as tf\n",
        "if tf.__version__ >=\"2.0\":\n",
        "    #mnist = tf.keras.datasets.mnist\n",
        "    import tensorflow.compat.v1 as tf\n",
        "    tf.disable_v2_behavior()\n",
        "    from tensorflow.examples.tutorials.mnist import input_data\n",
        "    mnist = input_data.read_data_sets(\"data/\", one_hot=True)\n",
        "\n",
        "    #mnist = tf.keras.datasets.mnist\n",
        "\n",
        "elif tf.__version__ <\"2.0\" :\n",
        "    from tensorflow.examples.tutorials.mnist import input_data\n",
        "    mnist = input_data.read_data_sets(\"data/\", one_hot=True)\n",
        "print('\\n$전역변수 mnist 생성 완료!')\n",
        "\n",
        "sess = tf.Session() #그냥 세션을 전역변수로 해줬다. 그 이유는 각 멤버함수의 스택이 끝나고, 학습으로 얻어낸 데이터들이 서로 연동되고 살아있게 하기 위함이다.\n",
        "\n",
        "class Mnist:\n",
        "    def __init__(self):\n",
        "        print('$Mnist 객체가 생성되었습니다. 이 객체안에는 mnist의 DLP 성능분석을 위한 모든 것들이 다 들어있습니다.\\n')\n",
        "\n",
        "        ########train할 mnist에 대하여, original, scaling, rotation, fliping한 4종류의 mnist_set들을 멤버변수로 추가한다.#########\n",
        "        self.train_images = mnist.train.images\n",
        "        self.train_labels = mnist.train.labels\n",
        "        self.test_images = mnist.test.images\n",
        "        self.test_labels = mnist.test.labels\n",
        "\n",
        "        ########train할 mnist에 대하여 Data Augumentation들을 위한 값들을 멤버변수로 추가한다.#########\n",
        "        self.scaling_rate_set = [26 / 28, 24 / 28, 20 / 28, 14 / 28, 8 / 28]\n",
        "        self.zero_padding_set = [((1, 1), (1, 1)), ((2, 2), (2, 2)), ((4, 4), (4, 4)), ((7, 7), (7, 7)),((10, 10), (10, 10))]\n",
        "        self.scaling_rate_str_percentage_set = [f'{self.scaling_rate_set[i] * 100:.1f}%' for i in range(5)]\n",
        "\n",
        "        self.rotation_angle_set = [10,20,30,40,50,60]\n",
        "        self.rotation_angle_str_set = ['10_','20_','30_','40_','50_','60_']\n",
        "\n",
        "        self.fliping_direction_set = [0,1] # 0 : 상하반전 1 : 좌우 반전\n",
        "        self.fliping_direction_str_set = ['up_down_flip','left_right_flip']\n",
        "\n",
        "        self.idx = 0\n",
        "\n",
        "        #self.X_Y_L2_original = {'X':None,'Y':None,\"L2\":None} #training data도 ,test data도 전부 다 augmentation이 되지 않은 원래의 mnist 학습 모델 파라미터.\n",
        "        #self.X_Y_L2_augmentation_dict = {'s' : {},'r' : {} ,'f' : {}} #s , r , f을 통해 나온 각각의 모델 파라미터들\n",
        "        self.X_Y_L2_result_dict = {\n",
        "            'original': {\n",
        "                'X': None,\n",
        "                'Y': None,\n",
        "                'L2' : None\n",
        "            },\n",
        "            'augmentation': {\n",
        "                's' : {\n",
        "                    self.scaling_rate_str_percentage_set[0]: {\n",
        "                        'X': None,\n",
        "                        'Y' : None,\n",
        "                        'L2' : None\n",
        "                    },\n",
        "                    self.scaling_rate_str_percentage_set[1]: {\n",
        "                        'X': None,\n",
        "                        'Y': None,\n",
        "                        'L2': None\n",
        "                    },\n",
        "                    self.scaling_rate_str_percentage_set[2]: {\n",
        "                        'X': None,\n",
        "                        'Y': None,\n",
        "                        'L2': None\n",
        "                    },\n",
        "                    self.scaling_rate_str_percentage_set[3]: {\n",
        "                        'X': None,\n",
        "                        'Y': None,\n",
        "                        'L2': None\n",
        "                    },\n",
        "                    self.scaling_rate_str_percentage_set[4]: {\n",
        "                        'X': None,\n",
        "                        'Y': None,\n",
        "                        'L2': None\n",
        "                    }\n",
        "                },\n",
        "                'r' : {\n",
        "                    self.rotation_angle_str_set[0]: {\n",
        "                        'X': None,\n",
        "                        'Y': None,\n",
        "                        'L2': None\n",
        "                    },\n",
        "                    self.rotation_angle_str_set[1]: {\n",
        "                        'X': None,\n",
        "                        'Y': None,\n",
        "                        'L2': None\n",
        "                    },\n",
        "                    self.rotation_angle_str_set[2]: {\n",
        "                        'X': None,\n",
        "                        'Y': None,\n",
        "                        'L2': None\n",
        "                    },\n",
        "                    self.rotation_angle_str_set[3]: {\n",
        "                        'X': None,\n",
        "                        'Y': None,\n",
        "                        'L2': None\n",
        "                    },\n",
        "                    self.rotation_angle_str_set[4]: {\n",
        "                        'X': None,\n",
        "                        'Y': None,\n",
        "                        'L2': None\n",
        "                    },\n",
        "                    self.rotation_angle_str_set[5]: {\n",
        "                        'X': None,\n",
        "                        'Y': None,\n",
        "                        'L2': None\n",
        "                    },\n",
        "                },\n",
        "                'f' : {\n",
        "                    self.fliping_direction_str_set[0]: {\n",
        "                        'X': None,\n",
        "                        'Y': None,\n",
        "                        'L2': None\n",
        "                    },\n",
        "                    self.fliping_direction_str_set[1]: {\n",
        "                        'X': None,\n",
        "                        'Y': None,\n",
        "                        'L2': None\n",
        "                    }\n",
        "                }\n",
        "            }\n",
        "        }\n",
        "\n",
        "        self.flag_of_train_augmentation = 'OFF' # 값은 'OFF' 혹은 'ON' 둘중 하나가 된다. 각각의 값들에 따라 self.accuracy_result_dict에서 해당 위치의 키로 이동하여 값을 저장한다.\n",
        "        # OFF면 DLP_train시에 X_Y_L2들을 self.X_Y_L2_original에 저장하고, ON이면 DLP_train시에 X_Y_L2들을 self.X_Y_L2_augmentation_dict에 저장한다.\n",
        "        # 항상 학습전에 flag를 설정해준다음 학습을 진행한다.\n",
        "\n",
        "        ####### 아래는 accuracy result 들을 저장하기 위한 딕셔너리\n",
        "        self.accuracy_result_dict = {\n",
        "            'original': None, # training data도, test data도 어떠한 augmentation도 없는 순수 그 자체 원래의 mnist 학습 결과 accuracy (대략 0.98)\n",
        "            'no_augmentation': { # test data만 augmentation하여 robustness를 측정할때 , 그 측정 지표로 볼 accuracy들을 모아두는 곳\n",
        "                's': {},  # 참고로 , 각각의 accuracy 결과들은 augmentation 함수들을 통해 각각 저장될 예정이다.\n",
        "                'r': {},\n",
        "                'f': {}\n",
        "            },\n",
        "            'augmentation': { # training data를 augmentation해주고, 각각의 test data로 확인해주었을때의 개선된 accuracy들을 모아두는 곳\n",
        "                's': {},  # 참고로 , 각각의 accuracy 결과들은 augmentation 함수들을 통해 각각 저장될 예정이다.\n",
        "                'r': {},\n",
        "                'f': {}\n",
        "            }\n",
        "        }\n",
        "        self.flag_of_test_augmentation = 'ORI' # 값은 'ORI' , 'ROB' , 'AUG' 셋중에 하나가 된다. 각각의 값들에 따라 self.accuracy_result_dict에서 해당 위치의 키로 이동하여 값을 저장한다.\n",
        "        # ORI -> DLP.test()시에 accuracy를 self.accuracy_result_dict['original']에 저장한다.\n",
        "        # ROB -> DLP.test()시에 accuracy를 self.accuracy_result_dict['no_augmentation']에 저장한다.\n",
        "        # AUG -> DLP.test()시에 accuracy를 self.accuracy_result_dict['augmentation']에 저장한다.\n",
        "        self.flag_of_augmentation_mode = None\n",
        "\n",
        "        self.test_data_images_set = {\n",
        "            'original': mnist.test.images,\n",
        "            'augmentation': {  # test data로 확인해주었을때의 개선된 accuracy들을 모아두는 곳\n",
        "                's': {},  # 참고로 , 각각의 accuracy 결과들은 augmentation 함수들을 통해 각각 저장될 예정이다.\n",
        "                'r': {},\n",
        "                'f': {}\n",
        "            }\n",
        "        }\n",
        "\n",
        "    def scaling(self,data_set, scaling_rate=5,inter_mode=cv2.INTER_AREA):  # mnist.train.images이건, mnist.test.images이건간에, 그 전부를 통째로 다 s_rate만큼 scaling 시켜버린다.\n",
        "        if self.flag_of_train_augmentation == 'OFF' and self.flag_of_test_augmentation == 'ROB' : #scaling의 robustness를 측정하고자 할 떄.\n",
        "            self.flag_of_augmentation_mode = 's'\n",
        "            for i in range(len(self.scaling_rate_set)):\n",
        "                print(f'$test data를 {self.scaling_rate_str_percentage_set[i]}씩 scaling(Decimation) 하겠습니다.')\n",
        "                scalied_data_set = []\n",
        "                for j in range(len(data_set)):\n",
        "                    scalied_data_set.append(cv2.resize(data_set[j].reshape((28, 28)), None, fx=self.scaling_rate_set[i], fy=self.scaling_rate_set[i],interpolation=inter_mode).tolist())\n",
        "                    # cv2.resize()를 해주기 위해서는 반드시 mnist를 2차원 ndarray형태로 만들어줘야한다.\n",
        "                    scalied_data_set[j] = np.pad(scalied_data_set[j], self.zero_padding_set[self.idx], 'constant', constant_values=(0))\n",
        "\n",
        "                scalied_data_set = np.array(scalied_data_set)\n",
        "                scalied_data_set_for_learning, scalied_data_set_for_showing = scalied_data_set.reshape((10000, 784)), scalied_data_set  # 학습용, 사진용으로 언패킹\n",
        "\n",
        "                self.showing_pictures(data_set, scalied_data_set_for_showing)  # 그림 보여주기\n",
        "                self.test_data_images_set['augmentation']['s'][self.scaling_rate_str_percentage_set[self.idx]] = scalied_data_set_for_learning  #미리 바뀐 test 이미지 저장\n",
        "                self.test_images = scalied_data_set_for_learning\n",
        "                self.DLP_test()\n",
        "\n",
        "        elif self.flag_of_train_augmentation == 'ON' and self.flag_of_test_augmentation == 'AUG' :\n",
        "            self.flag_of_augmentation_mode = 's'\n",
        "            for i in range(len(self.scaling_rate_set)):\n",
        "                print(f'train data를 {self.scaling_rate_str_percentage_set[i]}씩 scaling(Decimation) 하겠습니다.')\n",
        "                scalied_data_set = []\n",
        "                for j in range(len(data_set)):\n",
        "                    scalied_data_set.append(cv2.resize(data_set[j].reshape((28, 28)), None, fx=self.scaling_rate_set[i],\n",
        "                                                       fy=self.scaling_rate_set[i], interpolation=inter_mode).tolist())\n",
        "                    # cv2.resize()를 해주기 위해서는 반드시 mnist를 2차원 ndarray형태로 만들어줘야한다.\n",
        "                    scalied_data_set[j] = np.pad(scalied_data_set[j], self.zero_padding_set[self.idx], 'constant',constant_values=(0))\n",
        "\n",
        "                scalied_data_set = np.array(scalied_data_set)\n",
        "                scalied_data_set_for_learning, scalied_data_set_for_showing = scalied_data_set.reshape((55000, 784)), scalied_data_set  # 학습용, 사진용으로 언패킹\n",
        "                self.showing_pictures(data_set, scalied_data_set_for_showing)  # 그림 보여주기\n",
        "                self.train_images = scalied_data_set_for_learning #\n",
        "                self.DLP_train()\n",
        "                self.DLP_test()\n",
        "\n",
        "    def rotation(self,data_set, rotation_angle=5):\n",
        "        if self.flag_of_train_augmentation == 'OFF' and self.flag_of_test_augmentation == 'ROB' : #test data만 augmentation을 주어서 scaling의 robustness를 측정하고자 할 떄.\n",
        "            print(f'$Rotation Angle을 10, 20, 30, 40, 50, 60도로 하여 robustness를 조사하겠습니다.\\n')\n",
        "            self.flag_of_augmentation_mode = 'r'\n",
        "            for i in range(len(self.rotation_angle_set)): #6번의 각도 change\n",
        "                print(f'$test data를 {self.rotation_angle_set[i]}씩 Rotation 하겠습니다.')\n",
        "                rotated_data_set = [] #mnist안의 모든 이미지들을 하나하나 다 변환해준다음 그 값들을 저장해줄 저장소\n",
        "\n",
        "                for j in range(len(data_set)):\n",
        "                    original_picture = data_set[j].reshape((28, 28))  # 1차원 ndarray를 2차원으로 만들어준다. mnist.train.images[idx].reshape((28,28))\n",
        "\n",
        "                    original_picture_shape = original_picture.shape  # 얘는 회전 변환된 1차 이미지 신호를 원래의 크기에 맞게 선형변환 시켜주는 함수에 들어가는 아규먼트이다. 원래함수의 shape를 입력해줘야 그 크기로 복구가능\n",
        "\n",
        "                    # 아래는 cv2의 회전변환 메소드를 쓰기위해 아규먼트로 넘겨줄 회전 변환된 이미지의 center이다. 이 center좌표를 축으로 회전 시킬 예정이다.\n",
        "                    rotated_picture_center_x, rotate_picture_center_y = original_picture.shape\n",
        "                    rotate_picture_center = (rotated_picture_center_x // 2, rotate_picture_center_y // 2)\n",
        "\n",
        "                    tmp_rotated_picture = cv2.getRotationMatrix2D(rotate_picture_center, self.rotation_angle_set[i],0.9)  # 1차 회전변환 (추후 선형변환으로 조정 필요)\n",
        "                    rotated_picture = cv2.warpAffine(original_picture, tmp_rotated_picture,original_picture_shape)  # 얘는 2차원 배열이라 1차원으로 다시 reshape해줘야해\n",
        "                    rotated_data_set.append(rotated_picture)\n",
        "\n",
        "                rotated_data_set = np.array(rotated_data_set)\n",
        "                rotated_data_set_for_learning, rotated_data_set_for_showing = rotated_data_set.reshape((10000, 784)), rotated_data_set  # 학습용, 사진용으로 언패킹\n",
        "                self.showing_pictures(data_set, rotated_data_set_for_showing)  # 그림 보여주기\n",
        "                self.test_data_images_set['augmentation']['r'][self.rotation_angle_str_set[i]] = rotated_data_set_for_learning\n",
        "                self.test_images = rotated_data_set_for_learning\n",
        "                self.DLP_test()\n",
        "\n",
        "        elif self.flag_of_train_augmentation == 'ON' and self.flag_of_test_augmentation == 'AUG' :\n",
        "            print(f'$Rotation Angle을 10, 20, 30, 40, 50, 60도로 하여 robustness를 조사하겠습니다.\\n')\n",
        "\n",
        "            self.flag_of_augmentation_mode = 'r'\n",
        "            for i in range(len(self.rotation_angle_set)): #6번의 각도 change\n",
        "                print(f'$train data를 {self.rotation_angle_set[i]}씩 Rotation 하겠습니다.')\n",
        "                rotated_data_set = [] #mnist안의 모든 이미지들을 하나하나 다 변환해준다음 그 값들을 저장해줄 저장소\n",
        "\n",
        "                for j in range(len(data_set)):\n",
        "                    original_picture = data_set[j].reshape((28, 28))  # 1차원 ndarray를 2차원으로 만들어준다. mnist.train.images[idx].reshape((28,28))\n",
        "                    original_picture_shape = original_picture.shape  # 얘는 회전 변환된 1차 이미지 신호를 원래의 크기에 맞게 선형변환 시켜주는 함수에 들어가는 아규먼트이다. 원래함수의 shape를 입력해줘야 그 크기로 복구가능\n",
        "                    # 아래는 cv2의 회전변환 메소드를 쓰기위해 아규먼트로 넘겨줄 회전 변환된 이미지의 center이다. 이 center좌표를 축으로 회전 시킬 예정이다.\n",
        "                    rotated_picture_center_x, rotate_picture_center_y = original_picture.shape\n",
        "                    rotate_picture_center = (rotated_picture_center_x // 2, rotate_picture_center_y // 2)\n",
        "                    tmp_rotated_picture = cv2.getRotationMatrix2D(rotate_picture_center, self.rotation_angle_set[i],0.9)  # 1차 회전변환 (추후 선형변환으로 조정 필요)\n",
        "                    rotated_picture = cv2.warpAffine(original_picture, tmp_rotated_picture,original_picture_shape)  # 얘는 2차원 배열이라 1차원으로 다시 reshape해줘야해\n",
        "                    rotated_data_set.append(rotated_picture)\n",
        "\n",
        "                rotated_data_set = np.array(rotated_data_set)\n",
        "                rotated_data_set_for_learning, rotated_data_set_for_showing = rotated_data_set.reshape((55000, 784)), rotated_data_set  # 학습용, 사진용으로 언패킹\n",
        "                self.showing_pictures(data_set, rotated_data_set_for_showing)  # 그림 보여주기\n",
        "                self.train_images = rotated_data_set_for_learning\n",
        "                self.DLP_train()\n",
        "                self.DLP_test()\n",
        "\n",
        "    def fliping(self,data_set,fliping_direction = 0):\n",
        "        if self.flag_of_train_augmentation == 'OFF' and self.flag_of_test_augmentation == 'ROB' : #test data만 augmentation을 주어서 scaling의 robustness를 측정하고자 할 떄.\n",
        "            print(f'$Flipping Direction을 상하반전, 좌우반전 으로 하여 robustness를 조사하겠습니다.\\n')\n",
        "            self.flag_of_augmentation_mode = 'f'\n",
        "\n",
        "            for i in range(len(self.fliping_direction_set)) : #2번의 flipping\n",
        "                print(f'$test data를 {self.fliping_direction_str_set[i]} 하겠습니다.')\n",
        "                flipped_data_set = [] #mnist안의 모든 이미지들을 하나하나 다 변환해준다음 그 값들을 저장해줄 저장소\n",
        "                for j in range(len(data_set)):\n",
        "                    original_picture = data_set[j].reshape((28, 28))  # 1차원 ndarray를 2차원으로 만들어준다. mnist.train.images[idx].reshape((28,28))\n",
        "                    flipped_picture = cv2.flip(original_picture, self.fliping_direction_set[i]) #상하 혹은 좌우 반전된 2차원 행렬\n",
        "                    flipped_data_set.append(flipped_picture)\n",
        "\n",
        "                flipped_data_set = np.array(flipped_data_set)\n",
        "                flipped_data_set_for_learning, flipped_data_set_for_showing = flipped_data_set.reshape((10000, 784)), flipped_data_set  # 학습용, 사진용으로 언패킹\n",
        "                self.showing_pictures(data_set, flipped_data_set_for_showing)  # 그림 보여주기\n",
        "                self.test_data_images_set['augmentation']['f'][self.fliping_direction_str_set[i]] = flipped_data_set_for_learning\n",
        "                self.test_images = flipped_data_set_for_learning\n",
        "                self.DLP_test()\n",
        "\n",
        "        elif self.flag_of_train_augmentation == 'ON' and self.flag_of_test_augmentation == 'AUG' :\n",
        "            print(f'$Flipping Direction을 상하반전, 좌우반전 으로 하여 robustness를 조사하겠습니다.\\n')\n",
        "            self.flag_of_augmentation_mode = 'f'\n",
        "\n",
        "            for i in range(len(self.fliping_direction_set)): #2번의 flipping\n",
        "                print(f'$train data를 {self.fliping_direction_str_set[i]} 하겠습니다.')\n",
        "                flipped_data_set = [] #mnist안의 모든 이미지들을 하나하나 다 변환해준다음 그 값들을 저장해줄 저장소\n",
        "                for j in range(len(data_set)):\n",
        "                    original_picture = data_set[j].reshape((28, 28))  # 1차원 ndarray를 2차원으로 만들어준다. mnist.train.images[idx].reshape((28,28))\n",
        "                    flipped_picture = cv2.flip(original_picture, self.fliping_direction_set[i])  # 상하 혹은 좌우 반전된 2차원 행렬\n",
        "                    flipped_data_set.append(flipped_picture)\n",
        "\n",
        "                flipped_data_set = np.array(flipped_data_set)\n",
        "                flipped_data_set_for_learning, flipped_data_set_for_showing = flipped_data_set.reshape((55000, 784)), flipped_data_set  # 학습용, 사진용으로 언패킹\n",
        "                self.showing_pictures(data_set, flipped_data_set_for_showing)  # 그림 보여주기\n",
        "                self.train_images = flipped_data_set_for_learning\n",
        "                self.DLP_train()\n",
        "                self.DLP_test()\n",
        "\n",
        "    def showing_pictures(self,unchanged_data_set, data_set_for_showing): #unchanged는 augmentation전의 train또는 test데이터이고, data_set_for_showing은 바뀐 후의 train혹은 test 데이터\n",
        "\n",
        "        mnist_idx = 12\n",
        "        length_for_reshaping = int(np.sqrt(len(unchanged_data_set[mnist_idx])))\n",
        "        unchanged_picture = unchanged_data_set[mnist_idx].reshape((length_for_reshaping,length_for_reshaping)) #이거 28x28인지 확인!\n",
        "        changed_picture = data_set_for_showing[mnist_idx]\n",
        "        subplot_pictures = [unchanged_picture,changed_picture]\n",
        "        subplot_labels = ['before','after']\n",
        "\n",
        "        fig = plt.figure(figsize = (8,8))\n",
        "\n",
        "        for i in range(2): #원래꺼랑 augmentation된 것의 사진을 둘다 띄워서 변경이 잘 되었는지 확인.\n",
        "            subplot = fig.add_subplot(1,2,i+1)\n",
        "            subplot.imshow(subplot_pictures[i])\n",
        "            subplot.set_xticks([0, subplot_pictures[i].shape[0]])\n",
        "            subplot.set_yticks([0, subplot_pictures[i].shape[1]])\n",
        "            subplot.set_title(subplot_labels[i])\n",
        "\n",
        "        if self.flag_of_train_augmentation == 'OFF':\n",
        "            if self.flag_of_augmentation_mode == 's':\n",
        "                plt.title('Uninhanced '+self.scaling_rate_str_percentage_set[self.idx])\n",
        "            elif self.flag_of_augmentation_mode == 'r' :\n",
        "                plt.title('Uninhanced ' + self.rotation_angle_str_set[self.idx])\n",
        "            elif self.flag_of_augmentation_mode == 'f' :\n",
        "                plt.title('Uninhanced ' + self.fliping_direction_str_set[self.idx])\n",
        "\n",
        "        elif self.flag_of_train_augmentation == 'ON':\n",
        "            if self.flag_of_augmentation_mode == 's':\n",
        "                plt.title('Inhanced '+self.scaling_rate_str_percentage_set[self.idx])\n",
        "            elif self.flag_of_augmentation_mode == 'r' :\n",
        "                plt.title('Inhanced ' + self.rotation_angle_str_set[self.idx])\n",
        "            elif self.flag_of_augmentation_mode == 'f' :\n",
        "                plt.title('Inhanced ' + self.fliping_direction_str_set[self.idx])\n",
        "        plt.show()\n",
        "\n",
        "    def DLP_train(self):\n",
        "\n",
        "        X = tf.placeholder(tf.float32, [None, 784])  # data\n",
        "        Y = tf.placeholder(tf.float32, [None, 10])  # label\n",
        "        # =================================================\n",
        "        # layer 1 processing\n",
        "        # =================================================\n",
        "        W1 = tf.Variable(tf.random_normal([784, 392], stddev=0.01))\n",
        "        L1 = tf.nn.relu(tf.matmul(X, W1))\n",
        "        # =================================================\n",
        "        # layer 2 processing\n",
        "        # =================================================\n",
        "        W2 = tf.Variable(tf.random_normal([392, 10], stddev=0.01))\n",
        "        L2 = tf.matmul(L1, W2)\n",
        "        cost = tf.reduce_mean(tf.nn.softmax_cross_entropy_with_logits_v2(logits=L2, labels=Y))\n",
        "        optimizer = tf.train.AdamOptimizer(0.001).minimize(cost)\n",
        "        # train_step=tf.train.GradientDescentOptimizer(0.5).minimize(cross_entropy)\n",
        "        # =================================================\n",
        "        # Data feed\n",
        "        # =================================================\n",
        "        init = tf.global_variables_initializer()\n",
        "        sess.run(init)\n",
        "\n",
        "        # ================================================================================================================\n",
        "        # mini batch operation을 할것이다. (Stocastic Gradient Descent) // batch_size , total_batch, total_epoch를 초기화 해준다.\n",
        "        # ================================================================================================================\n",
        "        batch_size = 100\n",
        "        total_batch = int(self.train_images.shape[0] / batch_size)  # 550개의 배치(루프)\n",
        "        total_epoch = 15\n",
        "\n",
        "        #미니배치로 학습 하기전에 배치로 조작을 조금 더 용이하게 해주기 위해서 최종 training_data_set을 zip()로 manipulate 해주려함.\n",
        "        total_training_data_set = np.array(list(zip(self.train_images, self.train_labels)).copy()) #zip함수를 이용하여 images와 label을 묶어준다.\n",
        "        #total_traing_Data_set는 images - label이 한쌍이 되어 튜플로 저장이 되었고, 그게 2차원 ndarray로 저장이 된다. [None,2]의 shape이다.\n",
        "        print('$학습을 시작하겠습니다.\\n$batch size : {} , total batch : {} , total epoch : {}\\n'.format(batch_size,total_batch,total_epoch))\n",
        "\n",
        "        for epoch in range(total_epoch):\n",
        "            total_cost = 0\n",
        "            for i in range(total_batch):# 1 epoch당 100 size의 배치 1개를 각각 550번 돌림. 이렇게 (미니 배치로 하는것 + 1번의 epoch 전체 섞어주는 걸) Stochastic Gradient Descent 방법이라 한대\n",
        "                # ========================================================================================================================\n",
        "                # 아래와 같이 조작을 해준 것은, data augmentation으로 인하여, mnist.train.next_batch()를 쓸수 없는 상황이기 떄문에 직접 배치를 만들어주려 하였다.\n",
        "                # ========================================================================================================================\n",
        "                mini_batch = total_training_data_set[i*batch_size:(i+1)*batch_size] #batch size만큼씩 슬라이싱을 통해 미니배치를 해줌!\n",
        "                batch_xs = []\n",
        "                batch_ys = []\n",
        "                for i in range(batch_size):\n",
        "                    batch_xs.append(mini_batch[i][0]) #batch_xs에는 튜플중애 첫번째 인자인 image만 넣어줄 것임.\n",
        "                    batch_ys.append(mini_batch[i][1]) #batch_ys에는 튜플중애 두번째 인자인 label만 넣어줄 것임.\n",
        "                batch_xs = np.array(batch_xs) #batch_size만큼 각각의 images와 labels 완성! 이제 이것들을 각 세션에 feed만 해주면 된다.\n",
        "                batch_ys = np.array(batch_ys)\n",
        "                #ppt에서는 batch로 ndarray 튜플을 넘겨주는것을 mnist의 함수로 수행하였음. 근데 나는 다른 방법이 필요하다. 그래서 일일이 노가다로 해줬다.\n",
        "\n",
        "                _, cost_val = sess.run([optimizer, cost], feed_dict={X: batch_xs,Y: batch_ys})  # optimizer값을 _로 해준 이유는 저 값을 굳이 출력 할 필요가 없기 떄문 ,\n",
        "                # 그리고 optimizer와 cost 각각을 sess.run할 것을 한번에 해주기 위함\n",
        "                total_cost += cost_val  # 배치 1개 돌리고 1 업데이트 하였을때 코스트 값이 cost_val인데, 그 것을 550개를 더해줘야한다. 1epoch별 코스트는 total_cost이고 그 값은 총 배치 갯수로 나눠줘야함\n",
        "            print('Epoch:', '%04d' % (epoch + 1), 'Avg. cost = ', '{:.3f}'.format(total_cost / total_batch))\n",
        "            total_training_data_set = np.random.permutation(total_training_data_set) #이 2차원 ndarray를 1차원을 기준으로 섞어준다. 그떄 쓰는 함수가 np.random.permutation임.\n",
        "            #permutation은 한마디로 random shifting이므로, 각 그림에 대한 label값의 대응의 결과가 변하지 않는다!\n",
        "\n",
        "        print('$Optimization done!\\n')\n",
        "        if self.flag_of_train_augmentation == \"OFF\" :\n",
        "            self.X_Y_L2_result_dict['original']['X'] = X\n",
        "            self.X_Y_L2_result_dict['original']['Y'] = Y\n",
        "            self.X_Y_L2_result_dict['original']['L2'] = L2\n",
        "\n",
        "        elif self.flag_of_train_augmentation == \"ON\":\n",
        "            if self.flag_of_augmentation_mode == 's':\n",
        "                self.X_Y_L2_result_dict['augmentation']['s'][self.scaling_rate_str_percentage_set[self.idx]]['X'] = X #일단 아직은 처리 금지.\n",
        "                self.X_Y_L2_result_dict['augmentation']['s'][self.scaling_rate_str_percentage_set[self.idx]]['Y'] = Y\n",
        "                self.X_Y_L2_result_dict['augmentation']['s'][self.scaling_rate_str_percentage_set[self.idx]]['L2'] = L2\n",
        "\n",
        "            elif self.flag_of_augmentation_mode == 'r':\n",
        "                self.X_Y_L2_result_dict['augmentation']['r'][self.rotation_angle_str_set[self.idx]]['X'] = X #일단 아직은 처리 금지.\n",
        "                self.X_Y_L2_result_dict['augmentation']['r'][self.rotation_angle_str_set[self.idx]]['Y'] = Y\n",
        "                self.X_Y_L2_result_dict['augmentation']['r'][self.rotation_angle_str_set[self.idx]]['L2'] = L2\n",
        "\n",
        "            elif self.flag_of_augmentation_mode == 'f':\n",
        "                self.X_Y_L2_result_dict['augmentation']['f'][self.fliping_direction_str_set[self.idx]]['X'] = X #일단 아직은 처리 금지.\n",
        "                self.X_Y_L2_result_dict['augmentation']['f'][self.fliping_direction_str_set[self.idx]]['Y'] = Y\n",
        "                self.X_Y_L2_result_dict['augmentation']['f'][self.fliping_direction_str_set[self.idx]]['L2'] = L2\n",
        "\n",
        "    def DLP_test(self):\n",
        "        if self.flag_of_test_augmentation == \"ORI\":\n",
        "            correct_prediction = tf.equal(tf.argmax(self.X_Y_L2_result_dict['original']['L2'], 1), tf.argmax(self.X_Y_L2_result_dict['original']['Y'], 1))\n",
        "            accuracy = tf.reduce_mean(tf.cast(correct_prediction, tf.float32))\n",
        "            print('$아무런 augmentation도 하지 않았을 때의 accuracy :', sess.run(accuracy, feed_dict={self.X_Y_L2_result_dict['original']['X']: self.test_images, self.X_Y_L2_result_dict['original']['Y']: self.test_labels}))\n",
        "            print()\n",
        "            self.accuracy_result_dict['original'] = sess.run(accuracy, feed_dict={self.X_Y_L2_result_dict['original']['X']: self.test_images, self.X_Y_L2_result_dict['original']['Y']: self.test_labels})\n",
        "\n",
        "        elif self.flag_of_test_augmentation == \"ROB\":\n",
        "            if self.flag_of_augmentation_mode == 's' : #scaling일 때\n",
        "                correct_prediction = tf.equal(tf.argmax(self.X_Y_L2_result_dict['original']['L2'], 1),tf.argmax(self.X_Y_L2_result_dict['original']['Y'], 1))\n",
        "                accuracy = tf.reduce_mean(tf.cast(correct_prediction, tf.float32))\n",
        "                print(f'$test data가 {self.scaling_rate_str_percentage_set[self.idx]}만큼 Decimation 되었을 때의 accuracy :', sess.run(accuracy,feed_dict={self.X_Y_L2_result_dict['original']['X']: self.test_images,self.X_Y_L2_result_dict['original']['Y']: self.test_labels}))\n",
        "                print()\n",
        "                self.accuracy_result_dict['no_augmentation']['s'][self.scaling_rate_str_percentage_set[self.idx]] = \\\n",
        "                    (sess.run(accuracy, feed_dict={self.X_Y_L2_result_dict['original']['X']: self.test_images,self.X_Y_L2_result_dict['original']['Y']: self.test_labels}))\n",
        "                self.idx += 1\n",
        "\n",
        "            elif self.flag_of_augmentation_mode == 'r' : #rotation일 때\n",
        "                correct_prediction = tf.equal(tf.argmax(self.X_Y_L2_result_dict['original']['L2'], 1),tf.argmax(self.X_Y_L2_result_dict['original']['Y'], 1))\n",
        "                accuracy = tf.reduce_mean(tf.cast(correct_prediction, tf.float32))\n",
        "                print(f'$test data가 {self.rotation_angle_str_set[self.idx]}만큼 Rotation 되었을 때의 accuracy :',sess.run(accuracy, feed_dict={self.X_Y_L2_result_dict['original']['X']: self.test_images,self.X_Y_L2_result_dict['original']['Y']: self.test_labels}))\n",
        "                print()\n",
        "                self.accuracy_result_dict['no_augmentation']['r'][self.rotation_angle_str_set[self.idx]] = \\\n",
        "                    (sess.run(accuracy, feed_dict={self.X_Y_L2_result_dict['original']['X']: self.test_images,self.X_Y_L2_result_dict['original']['Y']: self.test_labels}))\n",
        "                self.idx += 1\n",
        "\n",
        "            elif self.flag_of_augmentation_mode == 'f' : #flipping일 때\n",
        "                correct_prediction = tf.equal(tf.argmax(self.X_Y_L2_result_dict['original']['L2'], 1),tf.argmax(self.X_Y_L2_result_dict['original']['Y'], 1))\n",
        "                accuracy = tf.reduce_mean(tf.cast(correct_prediction, tf.float32))\n",
        "                print(f'$test data가 {self.fliping_direction_str_set[self.idx]} 하였을 때의 accuracy :',sess.run(accuracy, feed_dict={self.X_Y_L2_result_dict['original']['X']: self.test_images,self.X_Y_L2_result_dict['original']['Y']: self.test_labels}))\n",
        "                print()\n",
        "                self.accuracy_result_dict['no_augmentation']['f'][self.fliping_direction_str_set[self.idx]] = \\\n",
        "                    (sess.run(accuracy, feed_dict={self.X_Y_L2_result_dict['original']['X']: self.test_images,self.X_Y_L2_result_dict['original']['Y']: self.test_labels}))\n",
        "                self.idx += 1\n",
        "\n",
        "        elif self.flag_of_test_augmentation == \"AUG\":\n",
        "            if self.flag_of_augmentation_mode == 's':  # scaling일 때\n",
        "                correct_prediction = tf.equal(tf.argmax(self.X_Y_L2_result_dict['augmentation']['s'][self.scaling_rate_str_percentage_set[self.idx]]['L2'], 1),tf.argmax(self.X_Y_L2_result_dict['augmentation']['s'][self.scaling_rate_str_percentage_set[self.idx]]['Y'], 1))\n",
        "                accuracy = tf.reduce_mean(tf.cast(correct_prediction, tf.float32))\n",
        "                print(f'$train data가 {self.scaling_rate_str_percentage_set[self.idx]}만큼 Decimation 되었을 때의 accuracy :',\n",
        "                      sess.run(accuracy, feed_dict={self.X_Y_L2_result_dict['augmentation']['s'][self.scaling_rate_str_percentage_set[self.idx]]['X']: self.test_data_images_set['augmentation']['s'][self.scaling_rate_str_percentage_set[self.idx]],\n",
        "                                                    self.X_Y_L2_result_dict['augmentation']['s'][self.scaling_rate_str_percentage_set[self.idx]]['Y']: self.test_labels}))\n",
        "                self.accuracy_result_dict['augmentation']['s'][self.scaling_rate_str_percentage_set[self.idx]] = \\\n",
        "                    (sess.run(accuracy, feed_dict={self.X_Y_L2_result_dict['augmentation']['s'][self.scaling_rate_str_percentage_set[self.idx]]['X']: self.test_data_images_set['augmentation']['s'][self.scaling_rate_str_percentage_set[self.idx]],\n",
        "                                                   self.X_Y_L2_result_dict['augmentation']['s'][self.scaling_rate_str_percentage_set[self.idx]]['Y']: self.test_labels}))\n",
        "                self.idx += 1\n",
        "\n",
        "            elif self.flag_of_augmentation_mode == 'r':  # rotation일 때\n",
        "                correct_prediction = tf.equal(tf.argmax(self.X_Y_L2_result_dict['augmentation']['r'][self.rotation_angle_str_set[self.idx]]['L2'], 1),\n",
        "                                              tf.argmax(self.X_Y_L2_result_dict['augmentation']['r'][self.rotation_angle_str_set[self.idx]]['Y'], 1))\n",
        "                accuracy = tf.reduce_mean(tf.cast(correct_prediction, tf.float32))\n",
        "                print(f'$train data가 {self.rotation_angle_str_set[self.idx]}만큼 Rotation 되었을 때의 accuracy :',\n",
        "                      sess.run(accuracy, feed_dict={self.X_Y_L2_result_dict['augmentation']['r'][self.rotation_angle_str_set[self.idx]]['X']: self.test_data_images_set['augmentation']['r'][self.rotation_angle_str_set[self.idx]],\n",
        "                                                    self.X_Y_L2_result_dict['augmentation']['r'][self.rotation_angle_str_set[self.idx]]['Y']: self.test_labels}))\n",
        "                self.accuracy_result_dict['augmentation']['r'][self.rotation_angle_str_set[self.idx]] = \\\n",
        "                    (sess.run(accuracy, feed_dict={self.X_Y_L2_result_dict['augmentation']['r'][self.rotation_angle_str_set[self.idx]]['X']: self.test_data_images_set['augmentation']['r'][self.rotation_angle_str_set[self.idx]],\n",
        "                                                   self.X_Y_L2_result_dict['augmentation']['r'][self.rotation_angle_str_set[self.idx]]['Y']: self.test_labels}))\n",
        "                self.idx += 1\n",
        "\n",
        "            elif self.flag_of_augmentation_mode == 'f':  # flipping일 때\n",
        "                correct_prediction = tf.equal(tf.argmax(self.X_Y_L2_result_dict['augmentation']['f'][self.fliping_direction_str_set[self.idx]]['L2'], 1),\n",
        "                                              tf.argmax(self.X_Y_L2_result_dict['augmentation']['f'][self.fliping_direction_str_set[self.idx]]['Y'], 1))\n",
        "                accuracy = tf.reduce_mean(tf.cast(correct_prediction, tf.float32))\n",
        "                print(f'$train data가 {self.fliping_direction_str_set[self.idx]} 하였을 때의 accuracy :',\n",
        "                      sess.run(accuracy, feed_dict={self.X_Y_L2_result_dict['augmentation']['f'][self.fliping_direction_str_set[self.idx]]['X']: self.test_data_images_set['augmentation']['f'][self.fliping_direction_str_set[self.idx]],\n",
        "                                                    self.X_Y_L2_result_dict['augmentation']['f'][self.fliping_direction_str_set[self.idx]]['Y']: self.test_labels}))\n",
        "                self.accuracy_result_dict['augmentation']['f'][self.fliping_direction_str_set[self.idx]] = \\\n",
        "                    (sess.run(accuracy, feed_dict={self.X_Y_L2_result_dict['augmentation']['f'][self.fliping_direction_str_set[self.idx]]['X']: self.test_data_images_set['augmentation']['f'][self.fliping_direction_str_set[self.idx]],\n",
        "                                                   self.X_Y_L2_result_dict['augmentation']['f'][self.fliping_direction_str_set[self.idx]]['Y']: self.test_labels}))\n",
        "                self.idx += 1\n",
        "\n",
        "    def setting_flag(self,flag_of_train_augmentation = 'OFF',flag_of_test_augmentation = 'ORI',axis = 2): #각 flag들을 바꾸어준다.\n",
        "        #axis가 0이면 self.flag_of_train_augmentation만 , 1이면 flag_of_test_augmentation만, 2이면 둘다 바꿔준다.\n",
        "        if axis == 0 :\n",
        "            self.flag_of_train_augmentation = flag_of_train_augmentation\n",
        "        elif axis == 1:\n",
        "            self.flag_of_test_augmentation = flag_of_test_augmentation\n",
        "        else :\n",
        "            self.flag_of_train_augmentation = flag_of_train_augmentation\n",
        "            self.flag_of_test_augmentation = flag_of_test_augmentation\n",
        "\n",
        "    def original_mnist_learning(self):\n",
        "        self.DLP_train()\n",
        "        self.DLP_test()\n",
        "\n",
        "    def measuring_robustness(self):\n",
        "        print('=' * 80)\n",
        "        print('$test data만 augmentation 해준 후, 방금 학습시킨 기존의 모델에 넣어서 robustness를 측정하겠습니다.')\n",
        "        print(f'$Scaling Rate : {self.scaling_rate_set[0] * 100:.1f}% ,{self.scaling_rate_set[1] * 100:.1f}% ,{self.scaling_rate_set[2] * 100:.1f}% ,{self.scaling_rate_set[3] * 100:.1f}% ,{self.scaling_rate_set[4] * 100:.1f}%')\n",
        "        print(f'$Rotation Angle : 10도, 20도, 30도, 40도, 50도, 60도')\n",
        "        print(f'Flipping Direction : 상하반전, 좌우반전')\n",
        "        print('=' * 80)\n",
        "        print()\n",
        "\n",
        "        self.setting_flag(flag_of_train_augmentation='OFF', flag_of_test_augmentation='ROB')\n",
        "        self.scaling(mnist.test.images)\n",
        "        self.idx = 0 #다시 0으로 초기화 (이것은 여러가지 augmentation을 해주기위한 필수조건)\n",
        "        self.rotation(mnist.test.images)\n",
        "        self.idx = 0 #여기서 self.idx값을 0으로 다시 초기화\n",
        "        self.fliping(mnist.test.images)\n",
        "        self.idx = 0  # 여기서 self.idx값을 0으로 다시 초기화\n",
        "\n",
        "\n",
        "    def inhancing_accuracy_by_retraining(self): #training data 혹은 test 데이터를 augmentation 할 수 도 있고 하지 않을 수도 있고, 선택적으로 할 수도 있게 해주는 조작 용도 함수.\n",
        "        print('='*80)\n",
        "        print('$training data도 augmentation해주어 robustness를 inhancing 하겠습니다.')\n",
        "        print(f'$scaling rate : {self.scaling_rate_set[0] * 100:.1f}% ,{self.scaling_rate_set[1] * 100:.1f}% ,{self.scaling_rate_set[2] * 100:.1f}% ,{self.scaling_rate_set[3] * 100:.1f}% ,{self.scaling_rate_set[4] * 100:.1f}%')\n",
        "        print(f'$Rotation Angle : 10도, 20도, 30도, 40도, 50도, 60도')\n",
        "        print(f'Flipping Direction : 상하반전, 좌우반전')\n",
        "        print('=' * 80)\n",
        "        print()\n",
        "\n",
        "        self.setting_flag(flag_of_train_augmentation='ON',flag_of_test_augmentation='AUG')\n",
        "        self.scaling(mnist.train.images)\n",
        "        self.idx = 0\n",
        "        self.rotation(mnist.train.images)\n",
        "        self.idx = 0\n",
        "        self.fliping(mnist.train.images)\n",
        "        self.idx = 0  # 여기서 self.idx값을 0으로 다시 초기화\n",
        "\n",
        "    def show_result(self):\n",
        "        print(f'\\n====================================최종 결과 분석=======================================\\n')\n",
        "        print('1) [scaling]\\n')\n",
        "        for i in range(5):\n",
        "            print(f'{self.scaling_rate_str_percentage_set[i]}만큼 scaling 했을때 ==> ',end='')\n",
        "            print(f\"개선 전 : {self.accuracy_result_dict['no_augmentation']['s'][self.scaling_rate_str_percentage_set[i]]:4f} -> \",end='')\n",
        "            print(f\"개선 후 : {self.accuracy_result_dict['augmentation']['s'][self.scaling_rate_str_percentage_set[i]]:4f}\")\n",
        "        print('\\n2) [rotation]\\n')\n",
        "        for i in range(6):\n",
        "            print(f'{self.rotation_angle_str_set[i]}만큼 rotation 했을때 ==> ',end='')\n",
        "            print(f\"개선 전 : {self.accuracy_result_dict['no_augmentation']['r'][self.rotation_angle_str_set[i]]:4f} -> \",end='')\n",
        "            print(f\"개선 후 : {self.accuracy_result_dict['augmentation']['r'][self.rotation_angle_str_set[i]]:4f}\")\n",
        "        print('\\n3) [flipping]\\n')\n",
        "        for i in range(2):\n",
        "            print(f'{self.fliping_direction_str_set[i]} 했을때 ==> ', end='')\n",
        "            print(f\"개선 전 : {self.accuracy_result_dict['no_augmentation']['f'][self.fliping_direction_str_set[i]]:4f} -> \",end='')\n",
        "            print(f\"개선 후 : {self.accuracy_result_dict['augmentation']['f'][self.fliping_direction_str_set[i]]:4f}\")\n",
        "        print(f'=======================================================================================')\n",
        "\n",
        "##########메인 함수###########\n",
        "mnist_dlp = Mnist()\n",
        "\n",
        "mnist_dlp.original_mnist_learning()\n",
        "mnist_dlp.measuring_robustness()\n",
        "mnist_dlp.inhancing_accuracy_by_retraining()\n",
        "mnist_dlp.show_result()"
      ],
      "execution_count": 2,
      "outputs": [
        {
          "output_type": "stream",
          "text": [
            "WARNING:tensorflow:From <ipython-input-2-76931c1450d5>:19: read_data_sets (from tensorflow.contrib.learn.python.learn.datasets.mnist) is deprecated and will be removed in a future version.\n",
            "Instructions for updating:\n",
            "Please use alternatives such as official/mnist/dataset.py from tensorflow/models.\n",
            "WARNING:tensorflow:From /usr/local/lib/python3.6/dist-packages/tensorflow_core/contrib/learn/python/learn/datasets/mnist.py:260: maybe_download (from tensorflow.contrib.learn.python.learn.datasets.base) is deprecated and will be removed in a future version.\n",
            "Instructions for updating:\n",
            "Please write your own downloading logic.\n",
            "WARNING:tensorflow:From /usr/local/lib/python3.6/dist-packages/tensorflow_core/contrib/learn/python/learn/datasets/base.py:252: _internal_retry.<locals>.wrap.<locals>.wrapped_fn (from tensorflow.contrib.learn.python.learn.datasets.base) is deprecated and will be removed in a future version.\n",
            "Instructions for updating:\n",
            "Please use urllib or similar directly.\n",
            "Successfully downloaded train-images-idx3-ubyte.gz 9912422 bytes.\n",
            "WARNING:tensorflow:From /usr/local/lib/python3.6/dist-packages/tensorflow_core/contrib/learn/python/learn/datasets/mnist.py:262: extract_images (from tensorflow.contrib.learn.python.learn.datasets.mnist) is deprecated and will be removed in a future version.\n",
            "Instructions for updating:\n",
            "Please use tf.data to implement this functionality.\n",
            "Extracting data/train-images-idx3-ubyte.gz\n",
            "Successfully downloaded train-labels-idx1-ubyte.gz 28881 bytes.\n",
            "WARNING:tensorflow:From /usr/local/lib/python3.6/dist-packages/tensorflow_core/contrib/learn/python/learn/datasets/mnist.py:267: extract_labels (from tensorflow.contrib.learn.python.learn.datasets.mnist) is deprecated and will be removed in a future version.\n",
            "Instructions for updating:\n",
            "Please use tf.data to implement this functionality.\n",
            "Extracting data/train-labels-idx1-ubyte.gz\n",
            "WARNING:tensorflow:From /usr/local/lib/python3.6/dist-packages/tensorflow_core/contrib/learn/python/learn/datasets/mnist.py:110: dense_to_one_hot (from tensorflow.contrib.learn.python.learn.datasets.mnist) is deprecated and will be removed in a future version.\n",
            "Instructions for updating:\n",
            "Please use tf.one_hot on tensors.\n",
            "Successfully downloaded t10k-images-idx3-ubyte.gz 1648877 bytes.\n",
            "Extracting data/t10k-images-idx3-ubyte.gz\n",
            "Successfully downloaded t10k-labels-idx1-ubyte.gz 4542 bytes.\n",
            "Extracting data/t10k-labels-idx1-ubyte.gz\n",
            "WARNING:tensorflow:From /usr/local/lib/python3.6/dist-packages/tensorflow_core/contrib/learn/python/learn/datasets/mnist.py:290: DataSet.__init__ (from tensorflow.contrib.learn.python.learn.datasets.mnist) is deprecated and will be removed in a future version.\n",
            "Instructions for updating:\n",
            "Please use alternatives such as official/mnist/dataset.py from tensorflow/models.\n",
            "\n",
            "$전역변수 mnist 생성 완료!\n",
            "$Mnist 객체가 생성되었습니다. 이 객체안에는 mnist의 DLP 성능분석을 위한 모든 것들이 다 들어있습니다.\n",
            "\n",
            "$학습을 시작하겠습니다.\n",
            "$batch size : 100 , total batch : 550 , total epoch : 15\n",
            "\n",
            "Epoch: 0001 Avg. cost =  0.380\n",
            "Epoch: 0002 Avg. cost =  0.152\n",
            "Epoch: 0003 Avg. cost =  0.100\n",
            "Epoch: 0004 Avg. cost =  0.073\n",
            "Epoch: 0005 Avg. cost =  0.055\n",
            "Epoch: 0006 Avg. cost =  0.042\n",
            "Epoch: 0007 Avg. cost =  0.033\n",
            "Epoch: 0008 Avg. cost =  0.025\n",
            "Epoch: 0009 Avg. cost =  0.019\n",
            "Epoch: 0010 Avg. cost =  0.016\n",
            "Epoch: 0011 Avg. cost =  0.012\n",
            "Epoch: 0012 Avg. cost =  0.010\n",
            "Epoch: 0013 Avg. cost =  0.007\n",
            "Epoch: 0014 Avg. cost =  0.006\n",
            "Epoch: 0015 Avg. cost =  0.008\n",
            "$Optimization done!\n",
            "\n",
            "$아무런 augmentation도 하지 않았을 때의 accuracy : 0.9822\n",
            "\n",
            "================================================================================\n",
            "$test data만 augmentation 해준 후, 방금 학습시킨 기존의 모델에 넣어서 robustness를 측정하겠습니다.\n",
            "$Scaling Rate : 92.9% ,85.7% ,71.4% ,50.0% ,28.6%\n",
            "$Rotation Angle : 10도, 20도, 30도, 40도, 50도, 60도\n",
            "Flipping Direction : 상하반전, 좌우반전\n",
            "================================================================================\n",
            "\n",
            "$test data를 92.9%씩 scaling(Decimation) 하겠습니다.\n"
          ],
          "name": "stdout"
        },
        {
          "output_type": "display_data",
          "data": {
            "image/png": "[encoded data removed]",
            "text/plain": [
              "<Figure size 576x576 with 2 Axes>"
            ]
          },
          "metadata": {
            "tags": [],
            "needs_background": "light"
          }
        },
        {
          "output_type": "stream",
          "text": [
            "$test data가 92.9%만큼 Decimation 되었을 때의 accuracy : 0.975\n",
            "\n",
            "$test data를 85.7%씩 scaling(Decimation) 하겠습니다.\n"
          ],
          "name": "stdout"
        },
        {
          "output_type": "display_data",
          "data": {
            "image/png": "[encoded data removed]",
            "text/plain": [
              "<Figure size 576x576 with 2 Axes>"
            ]
          },
          "metadata": {
            "tags": [],
            "needs_background": "light"
          }
        },
        {
          "output_type": "stream",
          "text": [
            "$test data가 85.7%만큼 Decimation 되었을 때의 accuracy : 0.9289\n",
            "\n",
            "$test data를 71.4%씩 scaling(Decimation) 하겠습니다.\n"
          ],
          "name": "stdout"
        },
        {
          "output_type": "display_data",
          "data": {
            "image/png": "[encoded data removed]",
            "text/plain": [
              "<Figure size 576x576 with 2 Axes>"
            ]
          },
          "metadata": {
            "tags": [],
            "needs_background": "light"
          }
        },
        {
          "output_type": "stream",
          "text": [
            "$test data가 71.4%만큼 Decimation 되었을 때의 accuracy : 0.6392\n",
            "\n",
            "$test data를 50.0%씩 scaling(Decimation) 하겠습니다.\n"
          ],
          "name": "stdout"
        },
        {
          "output_type": "display_data",
          "data": {
            "image/png": "[encoded data removed]",
            "text/plain": [
              "<Figure size 576x576 with 2 Axes>"
            ]
          },
          "metadata": {
            "tags": [],
            "needs_background": "light"
          }
        },
        {
          "output_type": "stream",
          "text": [
            "$test data가 50.0%만큼 Decimation 되었을 때의 accuracy : 0.2849\n",
            "\n",
            "$test data를 28.6%씩 scaling(Decimation) 하겠습니다.\n"
          ],
          "name": "stdout"
        },
        {
          "output_type": "display_data",
          "data": {
            "image/png": "[encoded data removed]",
            "text/plain": [
              "<Figure size 576x576 with 2 Axes>"
            ]
          },
          "metadata": {
            "tags": [],
            "needs_background": "light"
          }
        },
        {
          "output_type": "stream",
          "text": [
            "$test data가 28.6%만큼 Decimation 되었을 때의 accuracy : 0.1774\n",
            "\n",
            "$Rotation Angle을 10, 20, 30, 40, 50, 60도로 하여 robustness를 조사하겠습니다.\n",
            "\n",
            "$test data를 10씩 Rotation 하겠습니다.\n"
          ],
          "name": "stdout"
        },
        {
          "output_type": "display_data",
          "data": {
            "image/png": "[encoded data removed]",
            "text/plain": [
              "<Figure size 576x576 with 2 Axes>"
            ]
          },
          "metadata": {
            "tags": [],
            "needs_background": "light"
          }
        },
        {
          "output_type": "stream",
          "text": [
            "$test data가 10_만큼 Rotation 되었을 때의 accuracy : 0.9461\n",
            "\n",
            "$test data를 20씩 Rotation 하겠습니다.\n"
          ],
          "name": "stdout"
        },
        {
          "output_type": "display_data",
          "data": {
            "image/png": "[encoded data removed]",
            "text/plain": [
              "<Figure size 576x576 with 2 Axes>"
            ]
          },
          "metadata": {
            "tags": [],
            "needs_background": "light"
          }
        },
        {
          "output_type": "stream",
          "text": [
            "$test data가 20_만큼 Rotation 되었을 때의 accuracy : 0.8857\n",
            "\n",
            "$test data를 30씩 Rotation 하겠습니다.\n"
          ],
          "name": "stdout"
        },
        {
          "output_type": "display_data",
          "data": {
            "image/png": "[encoded data removed]",
            "text/plain": [
              "<Figure size 576x576 with 2 Axes>"
            ]
          },
          "metadata": {
            "tags": [],
            "needs_background": "light"
          }
        },
        {
          "output_type": "stream",
          "text": [
            "$test data가 30_만큼 Rotation 되었을 때의 accuracy : 0.7392\n",
            "\n",
            "$test data를 40씩 Rotation 하겠습니다.\n"
          ],
          "name": "stdout"
        },
        {
          "output_type": "display_data",
          "data": {
            "image/png": "[encoded data removed]",
            "text/plain": [
              "<Figure size 576x576 with 2 Axes>"
            ]
          },
          "metadata": {
            "tags": [],
            "needs_background": "light"
          }
        },
        {
          "output_type": "stream",
          "text": [
            "$test data가 40_만큼 Rotation 되었을 때의 accuracy : 0.5357\n",
            "\n",
            "$test data를 50씩 Rotation 하겠습니다.\n"
          ],
          "name": "stdout"
        },
        {
          "output_type": "display_data",
          "data": {
            "image/png": "[encoded data removed]",
            "text/plain": [
              "<Figure size 576x576 with 2 Axes>"
            ]
          },
          "metadata": {
            "tags": [],
            "needs_background": "light"
          }
        },
        {
          "output_type": "stream",
          "text": [
            "$test data가 50_만큼 Rotation 되었을 때의 accuracy : 0.3651\n",
            "\n",
            "$test data를 60씩 Rotation 하겠습니다.\n"
          ],
          "name": "stdout"
        },
        {
          "output_type": "display_data",
          "data": {
            "image/png": "[encoded data removed]",
            "text/plain": [
              "<Figure size 576x576 with 2 Axes>"
            ]
          },
          "metadata": {
            "tags": [],
            "needs_background": "light"
          }
        },
        {
          "output_type": "stream",
          "text": [
            "$test data가 60_만큼 Rotation 되었을 때의 accuracy : 0.2467\n",
            "\n",
            "$Flipping Direction을 상하반전, 좌우반전 으로 하여 robustness를 조사하겠습니다.\n",
            "\n",
            "$test data를 up_down_flip 하겠습니다.\n"
          ],
          "name": "stdout"
        },
        {
          "output_type": "display_data",
          "data": {
            "image/png": "[encoded data removed]",
            "text/plain": [
              "<Figure size 576x576 with 2 Axes>"
            ]
          },
          "metadata": {
            "tags": [],
            "needs_background": "light"
          }
        },
        {
          "output_type": "stream",
          "text": [
            "$test data가 up_down_flip 하였을 때의 accuracy : 0.3346\n",
            "\n",
            "$test data를 left_right_flip 하겠습니다.\n"
          ],
          "name": "stdout"
        },
        {
          "output_type": "display_data",
          "data": {
            "image/png": "[encoded data removed]",
            "text/plain": [
              "<Figure size 576x576 with 2 Axes>"
            ]
          },
          "metadata": {
            "tags": [],
            "needs_background": "light"
          }
        },
        {
          "output_type": "stream",
          "text": [
            "$test data가 left_right_flip 하였을 때의 accuracy : 0.4268\n",
            "\n",
            "================================================================================\n",
            "$training data도 augmentation해주어 robustness를 inhancing 하겠습니다.\n",
            "$scaling rate : 92.9% ,85.7% ,71.4% ,50.0% ,28.6%\n",
            "$Rotation Angle : 10도, 20도, 30도, 40도, 50도, 60도\n",
            "Flipping Direction : 상하반전, 좌우반전\n",
            "================================================================================\n",
            "\n",
            "train data를 92.9%씩 scaling(Decimation) 하겠습니다.\n"
          ],
          "name": "stdout"
        },
        {
          "output_type": "display_data",
          "data": {
            "image/png": "[encoded data removed]",
            "text/plain": [
              "<Figure size 576x576 with 2 Axes>"
            ]
          },
          "metadata": {
            "tags": [],
            "needs_background": "light"
          }
        },
        {
          "output_type": "stream",
          "text": [
            "$학습을 시작하겠습니다.\n",
            "$batch size : 100 , total batch : 550 , total epoch : 15\n",
            "\n",
            "Epoch: 0001 Avg. cost =  0.399\n",
            "Epoch: 0002 Avg. cost =  0.162\n",
            "Epoch: 0003 Avg. cost =  0.109\n",
            "Epoch: 0004 Avg. cost =  0.082\n",
            "Epoch: 0005 Avg. cost =  0.065\n",
            "Epoch: 0006 Avg. cost =  0.052\n",
            "Epoch: 0007 Avg. cost =  0.042\n",
            "Epoch: 0008 Avg. cost =  0.036\n",
            "Epoch: 0009 Avg. cost =  0.028\n",
            "Epoch: 0010 Avg. cost =  0.024\n",
            "Epoch: 0011 Avg. cost =  0.019\n",
            "Epoch: 0012 Avg. cost =  0.017\n",
            "Epoch: 0013 Avg. cost =  0.013\n",
            "Epoch: 0014 Avg. cost =  0.012\n",
            "Epoch: 0015 Avg. cost =  0.010\n",
            "$Optimization done!\n",
            "\n",
            "$train data가 92.9%만큼 Decimation 되었을 때의 accuracy : 0.9815\n",
            "train data를 85.7%씩 scaling(Decimation) 하겠습니다.\n"
          ],
          "name": "stdout"
        },
        {
          "output_type": "display_data",
          "data": {
            "image/png": "[encoded data removed]",
            "text/plain": [
              "<Figure size 576x576 with 2 Axes>"
            ]
          },
          "metadata": {
            "tags": [],
            "needs_background": "light"
          }
        },
        {
          "output_type": "stream",
          "text": [
            "$학습을 시작하겠습니다.\n",
            "$batch size : 100 , total batch : 550 , total epoch : 15\n",
            "\n",
            "Epoch: 0001 Avg. cost =  0.414\n",
            "Epoch: 0002 Avg. cost =  0.175\n",
            "Epoch: 0003 Avg. cost =  0.121\n",
            "Epoch: 0004 Avg. cost =  0.090\n",
            "Epoch: 0005 Avg. cost =  0.071\n",
            "Epoch: 0006 Avg. cost =  0.059\n",
            "Epoch: 0007 Avg. cost =  0.046\n",
            "Epoch: 0008 Avg. cost =  0.039\n",
            "Epoch: 0009 Avg. cost =  0.032\n",
            "Epoch: 0010 Avg. cost =  0.027\n",
            "Epoch: 0011 Avg. cost =  0.022\n",
            "Epoch: 0012 Avg. cost =  0.019\n",
            "Epoch: 0013 Avg. cost =  0.015\n",
            "Epoch: 0014 Avg. cost =  0.013\n",
            "Epoch: 0015 Avg. cost =  0.010\n",
            "$Optimization done!\n",
            "\n",
            "$train data가 85.7%만큼 Decimation 되었을 때의 accuracy : 0.979\n",
            "train data를 71.4%씩 scaling(Decimation) 하겠습니다.\n"
          ],
          "name": "stdout"
        },
        {
          "output_type": "display_data",
          "data": {
            "image/png": "[encoded data removed]",
            "text/plain": [
              "<Figure size 576x576 with 2 Axes>"
            ]
          },
          "metadata": {
            "tags": [],
            "needs_background": "light"
          }
        },
        {
          "output_type": "stream",
          "text": [
            "$학습을 시작하겠습니다.\n",
            "$batch size : 100 , total batch : 550 , total epoch : 15\n",
            "\n",
            "Epoch: 0001 Avg. cost =  0.440\n",
            "Epoch: 0002 Avg. cost =  0.192\n",
            "Epoch: 0003 Avg. cost =  0.135\n",
            "Epoch: 0004 Avg. cost =  0.103\n",
            "Epoch: 0005 Avg. cost =  0.082\n",
            "Epoch: 0006 Avg. cost =  0.067\n",
            "Epoch: 0007 Avg. cost =  0.056\n",
            "Epoch: 0008 Avg. cost =  0.047\n",
            "Epoch: 0009 Avg. cost =  0.040\n",
            "Epoch: 0010 Avg. cost =  0.034\n",
            "Epoch: 0011 Avg. cost =  0.030\n",
            "Epoch: 0012 Avg. cost =  0.026\n",
            "Epoch: 0013 Avg. cost =  0.022\n",
            "Epoch: 0014 Avg. cost =  0.019\n",
            "Epoch: 0015 Avg. cost =  0.016\n",
            "$Optimization done!\n",
            "\n",
            "$train data가 71.4%만큼 Decimation 되었을 때의 accuracy : 0.9805\n",
            "train data를 50.0%씩 scaling(Decimation) 하겠습니다.\n"
          ],
          "name": "stdout"
        },
        {
          "output_type": "display_data",
          "data": {
            "image/png": "[encoded data removed]",
            "text/plain": [
              "<Figure size 576x576 with 2 Axes>"
            ]
          },
          "metadata": {
            "tags": [],
            "needs_background": "light"
          }
        },
        {
          "output_type": "stream",
          "text": [
            "$학습을 시작하겠습니다.\n",
            "$batch size : 100 , total batch : 550 , total epoch : 15\n",
            "\n",
            "Epoch: 0001 Avg. cost =  0.508\n",
            "Epoch: 0002 Avg. cost =  0.238\n",
            "Epoch: 0003 Avg. cost =  0.176\n",
            "Epoch: 0004 Avg. cost =  0.138\n",
            "Epoch: 0005 Avg. cost =  0.112\n",
            "Epoch: 0006 Avg. cost =  0.094\n",
            "Epoch: 0007 Avg. cost =  0.081\n",
            "Epoch: 0008 Avg. cost =  0.070\n",
            "Epoch: 0009 Avg. cost =  0.062\n",
            "Epoch: 0010 Avg. cost =  0.054\n",
            "Epoch: 0011 Avg. cost =  0.048\n",
            "Epoch: 0012 Avg. cost =  0.043\n",
            "Epoch: 0013 Avg. cost =  0.038\n",
            "Epoch: 0014 Avg. cost =  0.034\n",
            "Epoch: 0015 Avg. cost =  0.030\n",
            "$Optimization done!\n",
            "\n",
            "$train data가 50.0%만큼 Decimation 되었을 때의 accuracy : 0.9798\n",
            "train data를 28.6%씩 scaling(Decimation) 하겠습니다.\n"
          ],
          "name": "stdout"
        },
        {
          "output_type": "display_data",
          "data": {
            "image/png": "[encoded data removed]",
            "text/plain": [
              "<Figure size 576x576 with 2 Axes>"
            ]
          },
          "metadata": {
            "tags": [],
            "needs_background": "light"
          }
        },
        {
          "output_type": "stream",
          "text": [
            "$학습을 시작하겠습니다.\n",
            "$batch size : 100 , total batch : 550 , total epoch : 15\n",
            "\n",
            "Epoch: 0001 Avg. cost =  0.715\n",
            "Epoch: 0002 Avg. cost =  0.358\n",
            "Epoch: 0003 Avg. cost =  0.296\n",
            "Epoch: 0004 Avg. cost =  0.250\n",
            "Epoch: 0005 Avg. cost =  0.218\n",
            "Epoch: 0006 Avg. cost =  0.193\n",
            "Epoch: 0007 Avg. cost =  0.173\n",
            "Epoch: 0008 Avg. cost =  0.159\n",
            "Epoch: 0009 Avg. cost =  0.145\n",
            "Epoch: 0010 Avg. cost =  0.135\n",
            "Epoch: 0011 Avg. cost =  0.126\n",
            "Epoch: 0012 Avg. cost =  0.119\n",
            "Epoch: 0013 Avg. cost =  0.112\n",
            "Epoch: 0014 Avg. cost =  0.106\n",
            "Epoch: 0015 Avg. cost =  0.100\n",
            "$Optimization done!\n",
            "\n",
            "$train data가 28.6%만큼 Decimation 되었을 때의 accuracy : 0.9702\n",
            "$Rotation Angle을 10, 20, 30, 40, 50, 60도로 하여 robustness를 조사하겠습니다.\n",
            "\n",
            "$train data를 10씩 Rotation 하겠습니다.\n"
          ],
          "name": "stdout"
        },
        {
          "output_type": "display_data",
          "data": {
            "image/png": "[encoded data removed]",
            "text/plain": [
              "<Figure size 576x576 with 2 Axes>"
            ]
          },
          "metadata": {
            "tags": [],
            "needs_background": "light"
          }
        },
        {
          "output_type": "stream",
          "text": [
            "$학습을 시작하겠습니다.\n",
            "$batch size : 100 , total batch : 550 , total epoch : 15\n",
            "\n",
            "Epoch: 0001 Avg. cost =  0.400\n",
            "Epoch: 0002 Avg. cost =  0.168\n",
            "Epoch: 0003 Avg. cost =  0.116\n",
            "Epoch: 0004 Avg. cost =  0.085\n",
            "Epoch: 0005 Avg. cost =  0.067\n",
            "Epoch: 0006 Avg. cost =  0.053\n",
            "Epoch: 0007 Avg. cost =  0.043\n",
            "Epoch: 0008 Avg. cost =  0.036\n",
            "Epoch: 0009 Avg. cost =  0.029\n",
            "Epoch: 0010 Avg. cost =  0.024\n",
            "Epoch: 0011 Avg. cost =  0.020\n",
            "Epoch: 0012 Avg. cost =  0.018\n",
            "Epoch: 0013 Avg. cost =  0.014\n",
            "Epoch: 0014 Avg. cost =  0.011\n",
            "Epoch: 0015 Avg. cost =  0.010\n",
            "$Optimization done!\n",
            "\n",
            "$train data가 10_만큼 Rotation 되었을 때의 accuracy : 0.9798\n",
            "$train data를 20씩 Rotation 하겠습니다.\n"
          ],
          "name": "stdout"
        },
        {
          "output_type": "display_data",
          "data": {
            "image/png": "[encoded data removed]",
            "text/plain": [
              "<Figure size 576x576 with 2 Axes>"
            ]
          },
          "metadata": {
            "tags": [],
            "needs_background": "light"
          }
        },
        {
          "output_type": "stream",
          "text": [
            "$학습을 시작하겠습니다.\n",
            "$batch size : 100 , total batch : 550 , total epoch : 15\n",
            "\n",
            "Epoch: 0001 Avg. cost =  0.398\n",
            "Epoch: 0002 Avg. cost =  0.166\n",
            "Epoch: 0003 Avg. cost =  0.112\n",
            "Epoch: 0004 Avg. cost =  0.085\n",
            "Epoch: 0005 Avg. cost =  0.066\n",
            "Epoch: 0006 Avg. cost =  0.053\n",
            "Epoch: 0007 Avg. cost =  0.044\n",
            "Epoch: 0008 Avg. cost =  0.035\n",
            "Epoch: 0009 Avg. cost =  0.029\n",
            "Epoch: 0010 Avg. cost =  0.023\n",
            "Epoch: 0011 Avg. cost =  0.019\n",
            "Epoch: 0012 Avg. cost =  0.016\n",
            "Epoch: 0013 Avg. cost =  0.013\n",
            "Epoch: 0014 Avg. cost =  0.011\n",
            "Epoch: 0015 Avg. cost =  0.010\n",
            "$Optimization done!\n",
            "\n",
            "$train data가 20_만큼 Rotation 되었을 때의 accuracy : 0.9784\n",
            "$train data를 30씩 Rotation 하겠습니다.\n"
          ],
          "name": "stdout"
        },
        {
          "output_type": "display_data",
          "data": {
            "image/png": "[encoded data removed]",
            "text/plain": [
              "<Figure size 576x576 with 2 Axes>"
            ]
          },
          "metadata": {
            "tags": [],
            "needs_background": "light"
          }
        },
        {
          "output_type": "stream",
          "text": [
            "$학습을 시작하겠습니다.\n",
            "$batch size : 100 , total batch : 550 , total epoch : 15\n",
            "\n",
            "Epoch: 0001 Avg. cost =  0.405\n",
            "Epoch: 0002 Avg. cost =  0.171\n",
            "Epoch: 0003 Avg. cost =  0.117\n",
            "Epoch: 0004 Avg. cost =  0.087\n",
            "Epoch: 0005 Avg. cost =  0.067\n",
            "Epoch: 0006 Avg. cost =  0.053\n",
            "Epoch: 0007 Avg. cost =  0.044\n",
            "Epoch: 0008 Avg. cost =  0.036\n",
            "Epoch: 0009 Avg. cost =  0.029\n",
            "Epoch: 0010 Avg. cost =  0.024\n",
            "Epoch: 0011 Avg. cost =  0.020\n",
            "Epoch: 0012 Avg. cost =  0.016\n",
            "Epoch: 0013 Avg. cost =  0.014\n",
            "Epoch: 0014 Avg. cost =  0.012\n",
            "Epoch: 0015 Avg. cost =  0.009\n",
            "$Optimization done!\n",
            "\n",
            "$train data가 30_만큼 Rotation 되었을 때의 accuracy : 0.9808\n",
            "$train data를 40씩 Rotation 하겠습니다.\n"
          ],
          "name": "stdout"
        },
        {
          "output_type": "display_data",
          "data": {
            "image/png": "[encoded data removed]",
            "text/plain": [
              "<Figure size 576x576 with 2 Axes>"
            ]
          },
          "metadata": {
            "tags": [],
            "needs_background": "light"
          }
        },
        {
          "output_type": "stream",
          "text": [
            "$학습을 시작하겠습니다.\n",
            "$batch size : 100 , total batch : 550 , total epoch : 15\n",
            "\n",
            "Epoch: 0001 Avg. cost =  0.400\n",
            "Epoch: 0002 Avg. cost =  0.168\n",
            "Epoch: 0003 Avg. cost =  0.115\n",
            "Epoch: 0004 Avg. cost =  0.086\n",
            "Epoch: 0005 Avg. cost =  0.068\n",
            "Epoch: 0006 Avg. cost =  0.055\n",
            "Epoch: 0007 Avg. cost =  0.045\n",
            "Epoch: 0008 Avg. cost =  0.036\n",
            "Epoch: 0009 Avg. cost =  0.030\n",
            "Epoch: 0010 Avg. cost =  0.024\n",
            "Epoch: 0011 Avg. cost =  0.020\n",
            "Epoch: 0012 Avg. cost =  0.017\n",
            "Epoch: 0013 Avg. cost =  0.014\n",
            "Epoch: 0014 Avg. cost =  0.012\n",
            "Epoch: 0015 Avg. cost =  0.010\n",
            "$Optimization done!\n",
            "\n",
            "$train data가 40_만큼 Rotation 되었을 때의 accuracy : 0.9794\n",
            "$train data를 50씩 Rotation 하겠습니다.\n"
          ],
          "name": "stdout"
        },
        {
          "output_type": "display_data",
          "data": {
            "image/png": "[encoded data removed]",
            "text/plain": [
              "<Figure size 576x576 with 2 Axes>"
            ]
          },
          "metadata": {
            "tags": [],
            "needs_background": "light"
          }
        },
        {
          "output_type": "stream",
          "text": [
            "$학습을 시작하겠습니다.\n",
            "$batch size : 100 , total batch : 550 , total epoch : 15\n",
            "\n",
            "Epoch: 0001 Avg. cost =  0.403\n",
            "Epoch: 0002 Avg. cost =  0.171\n",
            "Epoch: 0003 Avg. cost =  0.115\n",
            "Epoch: 0004 Avg. cost =  0.086\n",
            "Epoch: 0005 Avg. cost =  0.066\n",
            "Epoch: 0006 Avg. cost =  0.055\n",
            "Epoch: 0007 Avg. cost =  0.044\n",
            "Epoch: 0008 Avg. cost =  0.036\n",
            "Epoch: 0009 Avg. cost =  0.029\n",
            "Epoch: 0010 Avg. cost =  0.025\n",
            "Epoch: 0011 Avg. cost =  0.021\n",
            "Epoch: 0012 Avg. cost =  0.017\n",
            "Epoch: 0013 Avg. cost =  0.015\n",
            "Epoch: 0014 Avg. cost =  0.011\n",
            "Epoch: 0015 Avg. cost =  0.010\n",
            "$Optimization done!\n",
            "\n",
            "$train data가 50_만큼 Rotation 되었을 때의 accuracy : 0.9778\n",
            "$train data를 60씩 Rotation 하겠습니다.\n"
          ],
          "name": "stdout"
        },
        {
          "output_type": "display_data",
          "data": {
            "image/png": "[encoded data removed]",
            "text/plain": [
              "<Figure size 576x576 with 2 Axes>"
            ]
          },
          "metadata": {
            "tags": [],
            "needs_background": "light"
          }
        },
        {
          "output_type": "stream",
          "text": [
            "$학습을 시작하겠습니다.\n",
            "$batch size : 100 , total batch : 550 , total epoch : 15\n",
            "\n",
            "Epoch: 0001 Avg. cost =  0.400\n",
            "Epoch: 0002 Avg. cost =  0.168\n",
            "Epoch: 0003 Avg. cost =  0.115\n",
            "Epoch: 0004 Avg. cost =  0.086\n",
            "Epoch: 0005 Avg. cost =  0.067\n",
            "Epoch: 0006 Avg. cost =  0.054\n",
            "Epoch: 0007 Avg. cost =  0.044\n",
            "Epoch: 0008 Avg. cost =  0.036\n",
            "Epoch: 0009 Avg. cost =  0.029\n",
            "Epoch: 0010 Avg. cost =  0.024\n",
            "Epoch: 0011 Avg. cost =  0.020\n",
            "Epoch: 0012 Avg. cost =  0.017\n",
            "Epoch: 0013 Avg. cost =  0.013\n",
            "Epoch: 0014 Avg. cost =  0.012\n",
            "Epoch: 0015 Avg. cost =  0.010\n",
            "$Optimization done!\n",
            "\n",
            "$train data가 60_만큼 Rotation 되었을 때의 accuracy : 0.9781\n",
            "$Flipping Direction을 상하반전, 좌우반전 으로 하여 robustness를 조사하겠습니다.\n",
            "\n",
            "$train data를 up_down_flip 하겠습니다.\n"
          ],
          "name": "stdout"
        },
        {
          "output_type": "display_data",
          "data": {
            "image/png": "[encoded data removed]",
            "text/plain": [
              "<Figure size 576x576 with 2 Axes>"
            ]
          },
          "metadata": {
            "tags": [],
            "needs_background": "light"
          }
        },
        {
          "output_type": "stream",
          "text": [
            "$학습을 시작하겠습니다.\n",
            "$batch size : 100 , total batch : 550 , total epoch : 15\n",
            "\n",
            "Epoch: 0001 Avg. cost =  0.379\n",
            "Epoch: 0002 Avg. cost =  0.152\n",
            "Epoch: 0003 Avg. cost =  0.100\n",
            "Epoch: 0004 Avg. cost =  0.073\n",
            "Epoch: 0005 Avg. cost =  0.056\n",
            "Epoch: 0006 Avg. cost =  0.042\n",
            "Epoch: 0007 Avg. cost =  0.033\n",
            "Epoch: 0008 Avg. cost =  0.025\n",
            "Epoch: 0009 Avg. cost =  0.019\n",
            "Epoch: 0010 Avg. cost =  0.016\n",
            "Epoch: 0011 Avg. cost =  0.013\n",
            "Epoch: 0012 Avg. cost =  0.010\n",
            "Epoch: 0013 Avg. cost =  0.007\n",
            "Epoch: 0014 Avg. cost =  0.009\n",
            "Epoch: 0015 Avg. cost =  0.006\n",
            "$Optimization done!\n",
            "\n",
            "$train data가 up_down_flip 하였을 때의 accuracy : 0.981\n",
            "$train data를 left_right_flip 하겠습니다.\n"
          ],
          "name": "stdout"
        },
        {
          "output_type": "display_data",
          "data": {
            "image/png": "[encoded data removed]",
            "text/plain": [
              "<Figure size 576x576 with 2 Axes>"
            ]
          },
          "metadata": {
            "tags": [],
            "needs_background": "light"
          }
        },
        {
          "output_type": "stream",
          "text": [
            "$학습을 시작하겠습니다.\n",
            "$batch size : 100 , total batch : 550 , total epoch : 15\n",
            "\n",
            "Epoch: 0001 Avg. cost =  0.379\n",
            "Epoch: 0002 Avg. cost =  0.152\n",
            "Epoch: 0003 Avg. cost =  0.099\n",
            "Epoch: 0004 Avg. cost =  0.072\n",
            "Epoch: 0005 Avg. cost =  0.055\n",
            "Epoch: 0006 Avg. cost =  0.042\n",
            "Epoch: 0007 Avg. cost =  0.032\n",
            "Epoch: 0008 Avg. cost =  0.025\n",
            "Epoch: 0009 Avg. cost =  0.019\n",
            "Epoch: 0010 Avg. cost =  0.015\n",
            "Epoch: 0011 Avg. cost =  0.012\n",
            "Epoch: 0012 Avg. cost =  0.010\n",
            "Epoch: 0013 Avg. cost =  0.008\n",
            "Epoch: 0014 Avg. cost =  0.006\n",
            "Epoch: 0015 Avg. cost =  0.006\n",
            "$Optimization done!\n",
            "\n",
            "$train data가 left_right_flip 하였을 때의 accuracy : 0.9793\n",
            "\n",
            "====================================최종 결과 분석=======================================\n",
            "\n",
            "1) [scaling]\n",
            "\n",
            "92.9%만큼 scaling 했을때 ==> 개선 전 : 0.975000 -> 개선 후 : 0.981500\n",
            "85.7%만큼 scaling 했을때 ==> 개선 전 : 0.928900 -> 개선 후 : 0.979000\n",
            "71.4%만큼 scaling 했을때 ==> 개선 전 : 0.639200 -> 개선 후 : 0.980500\n",
            "50.0%만큼 scaling 했을때 ==> 개선 전 : 0.284900 -> 개선 후 : 0.979800\n",
            "28.6%만큼 scaling 했을때 ==> 개선 전 : 0.177400 -> 개선 후 : 0.970200\n",
            "\n",
            "2) [rotation]\n",
            "\n",
            "10_만큼 rotation 했을때 ==> 개선 전 : 0.946100 -> 개선 후 : 0.979800\n",
            "20_만큼 rotation 했을때 ==> 개선 전 : 0.885700 -> 개선 후 : 0.978400\n",
            "30_만큼 rotation 했을때 ==> 개선 전 : 0.739200 -> 개선 후 : 0.980800\n",
            "40_만큼 rotation 했을때 ==> 개선 전 : 0.535700 -> 개선 후 : 0.979400\n",
            "50_만큼 rotation 했을때 ==> 개선 전 : 0.365100 -> 개선 후 : 0.977800\n",
            "60_만큼 rotation 했을때 ==> 개선 전 : 0.246700 -> 개선 후 : 0.978100\n",
            "\n",
            "3) [flipping]\n",
            "\n",
            "up_down_flip 했을때 ==> 개선 전 : 0.334600 -> 개선 후 : 0.981000\n",
            "left_right_flip 했을때 ==> 개선 전 : 0.426800 -> 개선 후 : 0.979300\n",
            "=======================================================================================\n"
          ],
          "name": "stdout"
        }
      ]
    }
  ]
}